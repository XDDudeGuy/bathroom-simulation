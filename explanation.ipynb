{
 "cells": [
  {
   "cell_type": "markdown",
   "metadata": {},
   "source": [
    "# Bathroom Simulation\n",
    "\n",
    "## Explanation interactive notebook\n",
    "### This file is a jupyter notebook. Use it by installing python, and then follow the steps to set up jupyter notebook at [jupyter´s website](https://jupyter.org/install)\n",
    "\n",
    "Here is where all explanations for everything in each file will be"
   ]
  },
  {
   "cell_type": "markdown",
   "metadata": {},
   "source": [
    "## en_str/mod.rs\n",
    "In this file I set out the structs and enums I will be using in main.rs"
   ]
  },
  {
   "cell_type": "markdown",
   "metadata": {},
   "source": [
    "### What is a struct?\n",
    "A struct is a collection of data that can be retrieved and changed. Structs can also implement functions however in this program they do not. For example:  \n",
    "You could have a struct for a dog with the properties of name, age, and owner. In rust that would look like this:"
   ]
  },
  {
   "cell_type": "raw",
   "metadata": {},
   "source": [
    "pub enum Dog {\n",
    "    pub name: &str,\n",
    "    pub age: u8,\n",
    "    pub owner: String\n",
    "}"
   ]
  }
 ],
 "metadata": {
  "kernelspec": {
   "display_name": "Python 3.10.6 64-bit",
   "language": "python",
   "name": "python3"
  },
  "language_info": {
   "name": "python",
   "version": "3.10.6"
  },
  "orig_nbformat": 4,
  "vscode": {
   "interpreter": {
    "hash": "916dbcbb3f70747c44a77c7bcd40155683ae19c65e1c03b4aa3499c5328201f1"
   }
  }
 },
 "nbformat": 4,
 "nbformat_minor": 2
}
